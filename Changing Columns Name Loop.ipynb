{
 "cells": [
  {
   "cell_type": "markdown",
   "id": "db1efecc-7772-4127-afac-e1991f88b6de",
   "metadata": {},
   "source": [
    "In a case when we cannot change names of columns we may apply the below <b>loop</b>:"
   ]
  },
  {
   "cell_type": "code",
   "execution_count": null,
   "id": "51dcc499-a873-4638-8fc6-138a1d6d0f51",
   "metadata": {},
   "outputs": [],
   "source": [
    "year = 1960\n",
    "for col in my_df.columns:\n",
    "    if col.startswith('Unnamed'): \n",
    "         my_df.rename(columns = {col :f'{year}'}, inplace = True)\n",
    "         year += 1"
   ]
  }
 ],
 "metadata": {
  "kernelspec": {
   "display_name": "Python 3 (ipykernel)",
   "language": "python",
   "name": "python3"
  },
  "language_info": {
   "name": ""
  }
 },
 "nbformat": 4,
 "nbformat_minor": 5
}
